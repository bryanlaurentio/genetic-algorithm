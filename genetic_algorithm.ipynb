{
  "nbformat": 4,
  "nbformat_minor": 0,
  "metadata": {
    "colab": {
      "name": "UTS_OKH.ipynb",
      "provenance": [],
      "collapsed_sections": []
    },
    "kernelspec": {
      "name": "python3",
      "display_name": "Python 3"
    },
    "language_info": {
      "name": "python"
    }
  },
  "cells": [
    {
      "cell_type": "code",
      "source": [
        "import numpy as np\n",
        "import matplotlib.pyplot as plt\n",
        "%matplotlib inline\n",
        "%config InlineBackend.figure_format = 'svg'\n",
        "plt.style.use(\"seaborn\")\n",
        "np.random.seed(42)"
      ],
      "metadata": {
        "id": "YKIlKGeBYqRC"
      },
      "execution_count": null,
      "outputs": []
    },
    {
      "cell_type": "code",
      "source": [
        "'''\n",
        "Sekarang, kita perlu membuat sebuah fungsi yang dapat membuat matriks ketetanggaan berdasarkan koordinat dari city-city yang ada.\n",
        "Maka dari itu, dibuatlah fungsi make_mat dan get_distance\n",
        "\n",
        "fungsi get_distance memiliki parameter koordinat city1 dan city2, dimana di fungsi ini akan dihitung jarak antar kedua city\n",
        "rumus yang digunakan adalah pythagoras yaitu sumbu X city1 (city1[0]) - sumbu X city2 (city2[0])\n",
        "dan ditambah dengan sumbu Y city1 (city1[1]) - Y city2 (city2[1]) lalu di akar kuadrat\n",
        "\n",
        "fungsi make_mat memiliki parameter berupa coordinates yang mana akan dibuat sebuah list untuk menampung jarak antar 1 kota dengan kota lainnya\n",
        "'''\n",
        "\n",
        "def get_distance(city1, city2):\n",
        "    #mengembalikan nilai berupa jarak\n",
        "    return np.sqrt((city1[0] - city2[0])**2 + (city1[1] - city2[1])**2)\n",
        "\n",
        "def make_mat(coordinates):\n",
        "    #membuat list untuk menyimpan jarak antar kota\n",
        "    res = []\n",
        "    for city1 in coordinates:\n",
        "      for city2 in coordinates:\n",
        "        res.append(get_distance(city1, city2))\n",
        "    #mengembalikan nilai menjadi sebuah array dengan baris dan kolom sesuai dengan jumlah kota\n",
        "    return np.reshape(res, (len(coordinates), len(coordinates)))"
      ],
      "metadata": {
        "id": "8E7Caz7KkR0v"
      },
      "execution_count": null,
      "outputs": []
    },
    {
      "cell_type": "code",
      "source": [
        "cities = 15\n",
        "city_coordinates = np.array([[0,0],[20,10],[45,20],[15,25],[10,50],[80,20],[57,69],[67,34],[76,72],[34,65],[89,65],[21,85],[61,110],[45,100],[75,97],[100,100],[25,110],[110,45],[110,110],[105,15]])\n",
        "adjacency_mat = make_mat(city_coordinates)"
      ],
      "metadata": {
        "id": "6mCFqHvEkliQ"
      },
      "execution_count": null,
      "outputs": []
    },
    {
      "cell_type": "code",
      "source": [
        "'''\n",
        "Ada beberapa variabel yang kami buat, yakni :\n",
        "bag untuk merepresentasikan seluruh jumlah populasi\n",
        "parents untuk merepresentasikan parents yang terpilih dari populasi\n",
        "score untuk menyimpan nilai atau score terbaik dalam kromosom di dalam popuplasi\n",
        "best untuk menyimpan kromosom terbaik\n",
        "adjacency_mat yang merupakan matriks yang akan digunakan untuk menyimpan jarak antar kota\n",
        "'''\n",
        "\n",
        "class Population():\n",
        "    def __init__(self, bag, adjacency_mat):\n",
        "        #bag diibaratkan seperti tas yang menyimpan populasi\n",
        "        self.bag = bag\n",
        "        #memilih parents dari populasi\n",
        "        self.parents = []\n",
        "        #meenyimpan skor kromosom terbaik di populasi\n",
        "        self.score = 0\n",
        "        #untuk menyimpan kromosom\n",
        "        self.best = None\n",
        "        #matrix yang berisi jarak tiap kota\n",
        "        self.adjacency_mat = adjacency_mat"
      ],
      "metadata": {
        "id": "ebVQdHhQf9Cx"
      },
      "execution_count": null,
      "outputs": []
    },
    {
      "cell_type": "code",
      "source": [
        "'''\n",
        "Pada tahapan ini, kita akan mengenerate secara acak generasi pertama dalam sebuah populasi\n",
        "'''\n",
        "def init_population(cities, adjacency_mat, n_population):\n",
        "    return Population(\n",
        "        #membuat sebuah array berjumlah banyaknya n_population dan didalam array tersebut berisi kromosom sesuai jumlah cities\n",
        "        np.asarray([np.random.permutation(cities) for x in range(n_population)]), \n",
        "        adjacency_mat\n",
        "    )"
      ],
      "metadata": {
        "id": "ZT_5u013gBq4"
      },
      "execution_count": null,
      "outputs": []
    },
    {
      "cell_type": "code",
      "source": [
        "pop = init_population(cities, adjacency_mat, 20)\n",
        "pop.bag"
      ],
      "metadata": {
        "colab": {
          "base_uri": "https://localhost:8080/"
        },
        "id": "lOYL2IWFjf7B",
        "outputId": "225f57d7-0993-4c4e-eba3-d8fdd77ae690"
      },
      "execution_count": null,
      "outputs": [
        {
          "output_type": "execute_result",
          "data": {
            "text/plain": [
              "array([[ 0, 17, 15,  1,  8,  5, 11,  3, 18, 16, 13,  2,  9, 19,  4, 12,\n",
              "         7, 10, 14,  6],\n",
              "       [19, 16, 15,  5,  4, 12, 14,  7,  3,  6,  2,  9, 13, 10, 18,  8,\n",
              "        17, 11,  0,  1],\n",
              "       [10,  7,  0,  2,  5, 18, 16, 12,  4, 14, 15,  9,  1, 13, 11, 19,\n",
              "         3, 17,  6,  8],\n",
              "       [ 0, 18,  6,  8, 17, 11,  4,  9, 12, 10,  5, 19, 15,  7,  1,  3,\n",
              "        16, 13,  2, 14],\n",
              "       [ 5,  2, 10, 19,  0, 12,  9, 16,  1,  4, 17,  8, 11,  6, 18,  7,\n",
              "        14, 15, 13,  3],\n",
              "       [ 3,  1,  4,  5, 15, 16,  9, 10, 13,  2, 18, 19, 11, 17,  7,  8,\n",
              "         6,  0, 12, 14],\n",
              "       [13, 10, 12, 16,  9,  5,  3,  2,  4, 15, 14, 17,  0,  1, 11,  7,\n",
              "        18, 19,  8,  6],\n",
              "       [17, 18,  1,  5,  3, 15,  7, 11, 16,  8, 10, 12,  6,  9, 19,  0,\n",
              "         2, 13, 14,  4],\n",
              "       [17, 11,  7, 13,  0,  9,  4,  8,  1,  5,  2, 16, 19, 15,  3, 18,\n",
              "        10, 14, 12,  6],\n",
              "       [ 4,  9,  1, 15,  7,  5, 16,  2, 18,  3, 12, 17,  8, 14,  0, 13,\n",
              "         6, 10, 19, 11],\n",
              "       [ 2,  6, 16,  4, 17,  1, 13, 12, 19,  3,  8, 15,  5, 10, 14,  7,\n",
              "        11,  9, 18,  0],\n",
              "       [14,  3,  9, 18,  8, 11, 17,  6,  5, 12, 19, 13, 10, 15,  7,  0,\n",
              "         4, 16,  2,  1],\n",
              "       [ 9,  8,  6, 14, 13,  2, 19, 12,  1, 17,  4, 15, 18,  0, 16,  7,\n",
              "        10,  3,  5, 11],\n",
              "       [ 5, 11,  4, 19,  9,  1, 12, 10,  7,  0,  8, 13,  6, 17, 16, 14,\n",
              "        18,  3,  2, 15],\n",
              "       [14, 16, 19, 13,  4, 12,  5,  7, 10,  1,  0, 15,  3,  8, 18, 11,\n",
              "         6,  2,  9, 17],\n",
              "       [ 6, 11,  4,  1, 18,  9, 14, 13, 10,  0, 12,  5,  7,  3, 17, 16,\n",
              "        15,  2, 19,  8],\n",
              "       [14,  7, 12,  6, 11,  4, 16,  9, 10,  0,  3,  8, 18,  5, 19,  1,\n",
              "        13, 17,  2, 15],\n",
              "       [ 7,  3,  4, 18,  1, 12,  8,  9, 14, 17, 19, 13,  6,  5,  2, 10,\n",
              "        11, 15,  0, 16],\n",
              "       [ 8,  7,  1,  6,  9, 10, 11, 19, 13,  5, 17, 12, 18, 16,  3,  2,\n",
              "        15,  4,  0, 14],\n",
              "       [17,  4,  3, 10,  6, 13, 14, 11,  7, 16, 12,  5,  9,  8,  1, 15,\n",
              "        19, 18,  0,  2]])"
            ]
          },
          "metadata": {},
          "execution_count": 6
        }
      ]
    },
    {
      "cell_type": "code",
      "source": [
        "'''\n",
        "fitness, penjelasan sederhana mengenai fitness adalah semakin kecil total jaraknya, maka semakin fit dan kuat sebuah kromosom.\n",
        "Kita bisa menghitung jumlah dari seluruh jarak antara cities yang bertetangga dalam sebuah urutan kromosom.\n",
        "'''\n",
        "def fitness(self, chromosome):\n",
        "    return sum(\n",
        "        [\n",
        "            #membuat list jumlah jarak antar 2 kota yang terdiri dari kromosom i dan i+1 sebanyak panjang kromosom\n",
        "            self.adjacency_mat[chromosome[i], chromosome[i + 1]]\n",
        "            for i in range(len(chromosome) - 1)\n",
        "        ]\n",
        "    )\n",
        "\n",
        "Population.fitness = fitness"
      ],
      "metadata": {
        "id": "WObITVd6jhm2"
      },
      "execution_count": null,
      "outputs": []
    },
    {
      "cell_type": "code",
      "source": [
        "'''\n",
        "Melakukan evaluasi niali untuk menghitung fitness tiap kromosom dalam populasi,\n",
        "menentukan siapa yang terbaik, menyimpan informasi score, dan mengembalikan beberapa vektor peluang setiap elemen\n",
        "merpresentasikan peluang tiap i elemen di dalam population bag yang akan dipilih menjadi parent\n",
        "Kita telah menyiapkan basic preprocessing untuk memastikan kromosom terburuk tidak akan terpilih\n",
        "'''\n",
        "def evaluate(self):\n",
        "    distances = np.asarray(\n",
        "        [self.fitness(chromosome) for chromosome in self.bag]\n",
        "    )\n",
        "    #menyimpan nilai distances terendah\n",
        "    self.score = np.min(distances)\n",
        "    #mencari kromosom distances terendah menggunakan index, tolist() mengubah array menjadi list\n",
        "    self.best = self.bag[distances.tolist().index(self.score)]\n",
        "    #memilih parents dari self.best\n",
        "    self.parents.append(self.best)\n",
        "    #menggunakan false karena jarak dengan kota sendiri = 0\n",
        "    if False in (distances[0] == distances):\n",
        "        #mencari nilai distances dikurangi distances terjauh\n",
        "        distances = np.max(distances) - distances\n",
        "    #return masing-masing distances dibagi dengan jumlah seluruh distances untuk dapat melihat perbandingan jaraknya\n",
        "    return distances / np.sum(distances)\n",
        "    \n",
        "Population.evaluate = evaluate"
      ],
      "metadata": {
        "id": "H9aQfAT5joi7"
      },
      "execution_count": null,
      "outputs": []
    },
    {
      "cell_type": "code",
      "source": [
        "#jika 0 menandakan bahwa nilai distances tersebut merupakan nilai distances terbesar\n",
        "pop.evaluate()"
      ],
      "metadata": {
        "colab": {
          "base_uri": "https://localhost:8080/"
        },
        "id": "OVEcH5qYjp0p",
        "outputId": "b7476cae-386f-4abb-efad-a3d2f6a264ef"
      },
      "execution_count": null,
      "outputs": [
        {
          "output_type": "execute_result",
          "data": {
            "text/plain": [
              "array([0.01881357, 0.09768735, 0.07921723, 0.11675931, 0.07360123,\n",
              "       0.05952749, 0.11096888, 0.07548665, 0.02103838, 0.        ,\n",
              "       0.03489895, 0.04495562, 0.00671791, 0.03975515, 0.02617611,\n",
              "       0.02248701, 0.07446204, 0.02928022, 0.0312695 , 0.0368974 ])"
            ]
          },
          "metadata": {},
          "execution_count": 9
        }
      ]
    },
    {
      "cell_type": "code",
      "source": [
        "#mencari kromosom dengan distances paling rendah\n",
        "pop.best"
      ],
      "metadata": {
        "colab": {
          "base_uri": "https://localhost:8080/"
        },
        "id": "h4MBsA4njq8Y",
        "outputId": "6455a9c7-2588-4461-b336-0662fd7a1f91"
      },
      "execution_count": null,
      "outputs": [
        {
          "output_type": "execute_result",
          "data": {
            "text/plain": [
              "array([ 0, 18,  6,  8, 17, 11,  4,  9, 12, 10,  5, 19, 15,  7,  1,  3, 16,\n",
              "       13,  2, 14])"
            ]
          },
          "metadata": {},
          "execution_count": 10
        }
      ]
    },
    {
      "cell_type": "code",
      "source": [
        "#mencari nilai distances terendah\n",
        "pop.score"
      ],
      "metadata": {
        "colab": {
          "base_uri": "https://localhost:8080/"
        },
        "id": "_IhzGrCajsJ5",
        "outputId": "76716d1d-cc25-458f-90f3-f2ab94143aa4"
      },
      "execution_count": null,
      "outputs": [
        {
          "output_type": "execute_result",
          "data": {
            "text/plain": [
              "1122.7595128671244"
            ]
          },
          "metadata": {},
          "execution_count": 11
        }
      ]
    },
    {
      "cell_type": "code",
      "source": [
        "'''\n",
        "Pada code ini, kita akan memilih jumlah k dari parents yang digunakan sebagai basis untuk generasi selanjutnya.\n",
        "Disini, kita menggunakan model roulette sederhana, dimana kita membandingkan nilai dari vektor probabilitas dan angka acak dari distribusi uniform.\n",
        "Jika nilai vektor probabilitas lebih tinggi, maka kromosom yang berhubungan ditambahkan pada self.parents.\n",
        "Kita mengulang proses ini hingga kita mendapatkan k parents.\n",
        "'''\n",
        "#Roulette selection is a stochastic selection method, where the probability for selection of an individual is proportional to its fitness\n",
        "def select(self, k=4):\n",
        "    #variabel fit menyimpan function evaluate\n",
        "    fit = self.evaluate()\n",
        "    #memilih jumlah parents, apabila parentsnya masih dibawah jumlah yang diinginkan maka tetap melakukan looping\n",
        "    while len(self.parents) < k:\n",
        "        #membuat sebuah variabel idx yang akan menyimpan 1 nilai random dari 0 hingga panjang dari distances yang ada di function evaluate\n",
        "        idx = np.random.randint(0, len(fit))\n",
        "        #jika nilai fit pada index idx bernilai lebih besar dari nilai random dari np.random.rand()\n",
        "        if fit[idx] > np.random.rand():\n",
        "            #maka list parents akan di-append dengan isi dari kromoson dari suatu gen\n",
        "            self.parents.append(self.bag[idx])\n",
        "    #membuat parents yang sebelumnya adalah list, menjadi array\n",
        "    self.parents = np.asarray(self.parents)\n",
        "\n",
        "Population.select = select"
      ],
      "metadata": {
        "id": "2-xRIzimjtKo"
      },
      "execution_count": null,
      "outputs": []
    },
    {
      "cell_type": "code",
      "source": [
        "#memilih parents\n",
        "pop.select()\n",
        "#menampilkan parents atau gen beserta kromosomnya\n",
        "pop.parents"
      ],
      "metadata": {
        "colab": {
          "base_uri": "https://localhost:8080/"
        },
        "id": "dMvYoTg5jufg",
        "outputId": "2ed95f5e-9e03-463e-eb8a-d4a7b6878f57"
      },
      "execution_count": null,
      "outputs": [
        {
          "output_type": "execute_result",
          "data": {
            "text/plain": [
              "array([[ 0, 18,  6,  8, 17, 11,  4,  9, 12, 10,  5, 19, 15,  7,  1,  3,\n",
              "        16, 13,  2, 14],\n",
              "       [ 0, 18,  6,  8, 17, 11,  4,  9, 12, 10,  5, 19, 15,  7,  1,  3,\n",
              "        16, 13,  2, 14],\n",
              "       [19, 16, 15,  5,  4, 12, 14,  7,  3,  6,  2,  9, 13, 10, 18,  8,\n",
              "        17, 11,  0,  1],\n",
              "       [14,  7, 12,  6, 11,  4, 16,  9, 10,  0,  3,  8, 18,  5, 19,  1,\n",
              "        13, 17,  2, 15]])"
            ]
          },
          "metadata": {},
          "execution_count": 13
        }
      ]
    },
    {
      "cell_type": "code",
      "source": [
        "'''\n",
        "Disini merupakan tahapan krusial, yakni mutasi. Terdapat beberapa tipe skema mutasi yang digunakan pada model ini\n",
        "Disini, kita menggunakan simple swap dan crossover mutation.\n",
        "Sesuai dengan namanya, simple swap berarti menukar dua gen pada suatu kromosom\n",
        "Sebagai contoh, jika kita memiliki elemen [a, b, c], kita dapat menukar dua elemen pertama sehingga kita mendapatkan elemen baru yakni [b, a, c].\n",
        "'''\n",
        "#mutasi menggunakan simple swap\n",
        "def swap(chromosome):\n",
        "    #variabel a dan b menyimpan nilai random dari panjang chromosom \n",
        "    a, b = np.random.choice(len(chromosome), 2)\n",
        "    #swap antar kromosom a dan kromosom b\n",
        "    chromosome[a], chromosome[b] = (\n",
        "        chromosome[b],\n",
        "        chromosome[a],\n",
        "    )\n",
        "    return chromosome"
      ],
      "metadata": {
        "id": "3RD1ehP8jwB_"
      },
      "execution_count": null,
      "outputs": []
    },
    {
      "cell_type": "code",
      "source": [
        "'''\n",
        "Pada crossover mutation (mutasi crossover), kita akan mengambil dua parents. Sebuah genetic operator digunakan untuk menggabungkan informasi genetic dari dua parents untuk menghasilkan keturunan yang baru.\n",
        "Setelah itu, kita membagi dua (slicing) sebuah porsi kromosom dari satu parents, dan mengisi slots yang kosong menggunakan informasi dari parents yang satu lagi.\n",
        "Ketika mengisi sisa dari slots yang kosong, kita harus mengecek bahwa tidak ada nilai yang sama atau duplikatt di dalam slots tersebut.\n",
        "Sebagai contoh, satu parent punya [a, b, c, d, e] dan parent yang satunya lagi adalah [b, a, e, c, d].\n",
        "Lalu, kita membagi dua (slicing) dari parent pertama sehingga kita mendapatkan slots sebagai [-, b, c, -, -].\n",
        "Setelah itu, kita mengisi slots yang kosong dari parent yang kedua, dan perlu diperhatikan jangan sampai terdapat slots yang sama atau duplikat.\n",
        "'''\n",
        "def crossover(self, p_cross=0.1):\n",
        "    #membuat variabel untuk menyimpan nilai berbentuk list \n",
        "    children = []\n",
        "    #count size didapatkan dari shape parents (count berisi jumlah baris dari parents, sedangkan size berisi jumlah kolom dari parentes)\n",
        "    count, size = self.parents.shape\n",
        "    #melakukan looping sebanyak jumlah bag\n",
        "    for _ in range(len(self.bag)):\n",
        "        #membuat sebuah nilai random, jika nilai random lebih dari p_cross\n",
        "        if np.random.rand() > p_cross:\n",
        "            #melakukan append ke list children\n",
        "            children.append(\n",
        "                #random nilai antara 0 hingga count dan hanya menghasilkan 1 nilai random (size =1)\n",
        "                list(self.parents[np.random.randint(count, size=1)[0]])\n",
        "            )\n",
        "        else:\n",
        "            #membuat parent1 dan parent2 dari nilai random yang berasal dari count dengan size = 2\n",
        "            parent1, parent2 = self.parents[\n",
        "                #nilai random sebanyak 2 nilai dengan rentang antara 0 hingga count\n",
        "                np.random.randint(count, size=2), :\n",
        "            ]\n",
        "            #membuat sebuah variabel baru yaitu idx yang berisi nilai random dari jumlah kolom pada parents dan berisi 2 nilai \n",
        "            idx = np.random.choice(range(size), size=2, replace=False)\n",
        "            #varibael start yang merupakan nilai minimum dari idx, dan end yang berisi nilai maksimum dari idx\n",
        "            start, end = min(idx), max(idx)\n",
        "            #membuat sebuah variabel baru berupa list dengan 1 baris dan (size) kolom\n",
        "            child = [None] * size\n",
        "            #melakukan looping dari nilai start hingga end\n",
        "            for i in range(start, end + 1, 1):\n",
        "                #child index ke i sampai end+1 diisi oleh nilai parent1[i]\n",
        "                child[i] = parent1[i]\n",
        "            #membuat variabel pointer = 0\n",
        "            pointer = 0\n",
        "            #melakukan looping sebanyak kolom parent\n",
        "            for i in range(size):\n",
        "                #melakukan pengecekan apabila terdapat child yang tidak ada isinya\n",
        "                if child[i] is None:\n",
        "                    #melakukan looping apabila nilai parent2 ada di child\n",
        "                    while parent2[pointer] in child:\n",
        "                        #maka pointer akan bertambah 1\n",
        "                        pointer += 1\n",
        "                    #apabila parent2 tidak ada di child, maka list child ditambah dengan parent2 dengan index pointer\n",
        "                    child[i] = parent2[pointer]\n",
        "            #melakukan append dengan children \n",
        "            children.append(child)\n",
        "    return children\n",
        "\n",
        "Population.crossover = crossover"
      ],
      "metadata": {
        "id": "9nW12sN4jxLp"
      },
      "execution_count": null,
      "outputs": []
    },
    {
      "cell_type": "code",
      "source": [
        "'''\n",
        "Sekarang, kita menggabungkan simple swap dan crossover mutation menjadi satu fungsi yang baik untuk dipanggil sehingga dapat dilakukan setiap mutasi sesuai dengan beberapa ambang batas yang ditentukan.\n",
        "'''\n",
        "\n",
        "def mutate(self, p_cross=0.1, p_mut=0.1):\n",
        "    #membuat variabel bernama next_bag yang bertipe data list\n",
        "    next_bag = []\n",
        "    #melakukan crossover\n",
        "    children = self.crossover(p_cross)\n",
        "    #melakukan looping pada children\n",
        "    for child in children:\n",
        "        #jika nilai random kurang dari p_mut\n",
        "        if np.random.rand() < p_mut:\n",
        "            #karena nilai p_mut > nilai random, makai dia mutasi, sehingga melakukan swap antar 1 kromosom ke kromosom lain\n",
        "            next_bag.append(swap(child))\n",
        "        else:\n",
        "            #karena p_mut < nilai random, maka dia tidak mutasi, sehingga langsung di append\n",
        "            next_bag.append(child)\n",
        "    return next_bag\n",
        "    \n",
        "Population.mutate = mutate"
      ],
      "metadata": {
        "id": "NpGR-QKmjzDB"
      },
      "execution_count": null,
      "outputs": []
    },
    {
      "cell_type": "code",
      "source": [
        "pop.mutate()"
      ],
      "metadata": {
        "colab": {
          "base_uri": "https://localhost:8080/"
        },
        "id": "Oe-vhYdwj0h5",
        "outputId": "63f60828-d53f-4338-bb69-524fc41daa03"
      },
      "execution_count": null,
      "outputs": [
        {
          "output_type": "execute_result",
          "data": {
            "text/plain": [
              "[[0, 18, 6, 8, 17, 11, 4, 9, 12, 10, 5, 19, 15, 14, 1, 3, 16, 13, 2, 7],\n",
              " [0, 18, 6, 8, 17, 11, 4, 9, 12, 10, 5, 19, 15, 7, 1, 3, 16, 13, 2, 14],\n",
              " [0, 18, 6, 8, 17, 11, 3, 9, 12, 10, 5, 19, 15, 7, 1, 4, 16, 13, 2, 14],\n",
              " [14, 7, 12, 6, 11, 4, 16, 9, 10, 0, 3, 8, 18, 5, 19, 1, 13, 17, 2, 15],\n",
              " [14, 7, 12, 6, 11, 4, 16, 9, 10, 0, 3, 8, 18, 5, 19, 1, 13, 17, 2, 15],\n",
              " [14, 7, 12, 6, 11, 4, 16, 9, 10, 0, 3, 8, 18, 5, 19, 1, 13, 17, 2, 15],\n",
              " [19, 16, 15, 4, 5, 12, 14, 7, 3, 6, 2, 9, 13, 10, 18, 8, 17, 11, 0, 1],\n",
              " [14, 7, 12, 6, 11, 4, 16, 9, 10, 2, 3, 8, 18, 5, 19, 1, 13, 17, 0, 15],\n",
              " [0, 18, 6, 8, 17, 11, 4, 9, 12, 10, 5, 19, 15, 7, 1, 3, 16, 13, 2, 14],\n",
              " [0, 18, 6, 8, 17, 11, 4, 9, 12, 10, 5, 19, 15, 7, 1, 3, 16, 13, 2, 14],\n",
              " [0, 18, 6, 8, 17, 11, 4, 9, 12, 10, 5, 19, 15, 7, 1, 3, 16, 13, 2, 14],\n",
              " [19, 16, 15, 5, 4, 12, 14, 7, 3, 6, 2, 9, 13, 10, 18, 8, 17, 11, 0, 1],\n",
              " [19, 17, 15, 5, 4, 12, 14, 7, 3, 6, 2, 9, 13, 10, 18, 8, 16, 11, 0, 1],\n",
              " [0, 18, 6, 8, 17, 11, 4, 9, 12, 10, 5, 19, 15, 7, 1, 3, 16, 13, 2, 14],\n",
              " [19, 16, 15, 5, 4, 12, 14, 7, 3, 6, 2, 9, 13, 10, 18, 8, 17, 11, 0, 1],\n",
              " [14, 7, 12, 6, 11, 4, 16, 9, 10, 0, 3, 8, 18, 5, 19, 1, 13, 17, 2, 15],\n",
              " [0, 18, 6, 8, 17, 11, 4, 9, 12, 10, 5, 19, 15, 7, 1, 3, 16, 13, 2, 14],\n",
              " [19, 16, 15, 5, 4, 12, 14, 7, 3, 6, 2, 9, 13, 10, 18, 8, 17, 11, 0, 1],\n",
              " [0, 18, 6, 8, 17, 11, 4, 9, 12, 10, 5, 19, 15, 7, 1, 3, 16, 13, 2, 14],\n",
              " [14, 7, 6, 8, 17, 11, 4, 9, 12, 16, 10, 0, 3, 18, 5, 19, 1, 13, 2, 15]]"
            ]
          },
          "metadata": {},
          "execution_count": 17
        }
      ]
    },
    {
      "cell_type": "code",
      "source": [
        "'''\n",
        "Sekarang, kita akan menggabungkan semuanya menjadi satu.\n",
        "Untuk kenyamanan, kita menambahkan beberapa parameter tambahan seperti print_interval atau verbose,\n",
        "Tetapi secara keseluruhan, semua yang dilakukan pada tahapan ini harusnya sudah familiar.\n",
        "Inti dari bagian ini adalah kita menjalankan sebuah simulasi dari populasi terpilih dan mutasi selama n_iter generations.\n",
        "Kunci utama adalah children = pop.mutate(p_cross, p_mut) and pop = Population(children, pop.adjacency_mat).\n",
        "Pada dasarnya, kita mendapatkan keturunan dari mutasi dan meneruskannya sebagai kantong populasi (population bag) generasi berikutnya dalam konstruktor Populasi (population constructor).\n",
        "'''\n",
        "#buat kelas genetic_algorithm dengan parameter-parameter yang dibutuhkan\n",
        "def genetic_algorithm(\n",
        "    cities,\n",
        "    adjacency_mat,\n",
        "    n_population=20,\n",
        "    n_iter=20,\n",
        "    selectivity=0.15,\n",
        "    p_cross=0.9,\n",
        "    p_mut=0.2,\n",
        "    print_interval=1000,\n",
        "    return_history=False,\n",
        "    verbose=False,\n",
        "):\n",
        "    #menyimpan population ke variabel pop\n",
        "    pop = init_population(cities, adjacency_mat, n_population)\n",
        "    #mencari nilai distances terendah\n",
        "    best = pop.best\n",
        "    #membuat variabel score\n",
        "    score = float(\"inf\")\n",
        "    #membuat list history\n",
        "    history = []\n",
        "    #melakukan iterasi dengan jumlah sesuai dengan parameter\n",
        "    for i in range(n_iter):\n",
        "        #melakukan selection, memilih parents\n",
        "        pop.select(n_population * selectivity)\n",
        "        #melakukan append ke history yang berisi score distances\n",
        "        history.append(pop.score)\n",
        "        #digunakan untuk logging output (mencatat setiap aktifitas yang dilakukan)\n",
        "        if i % print_interval == 0:\n",
        "          print(f\"Generation {i}: {pop.score}\")\n",
        "        if pop.score < score:\n",
        "            #mencari nilai baru untuk best, begitu juga dengna score, lalu menyimpannya masing\"\n",
        "            best = pop.best\n",
        "            score = pop.score\n",
        "        #melakukan mutasi\n",
        "        children = pop.mutate(p_cross, p_mut)\n",
        "        #memanggil class popoulation\n",
        "        pop = Population(children, pop.adjacency_mat)\n",
        "    if return_history:\n",
        "        return best, history\n",
        "    return best"
      ],
      "metadata": {
        "id": "cFzxJU-Mj1zu"
      },
      "execution_count": null,
      "outputs": []
    },
    {
      "cell_type": "code",
      "source": [
        "'''\n",
        "Sekarang, kita akan menjalankan berdasarkan waktu yang sudah ditentukan, sebagai contoh 1000 generasi.\n",
        "Sebagai bukti, kita dapat menampilkan riwayat perhitungan dengan membuat return_history menjadi True\n",
        "'''\n",
        "#menggunakan function genetic algorithm dengan parameter yang dibuthkan\n",
        "best, history = genetic_algorithm(\n",
        "    cities,\n",
        "    adjacency_mat,\n",
        "    n_iter=10000,\n",
        "    verbose=False,\n",
        "    print_interval=1000,\n",
        "    return_history=True,\n",
        ")\n",
        "#menyimpan nilai terendah setiap looping\n",
        "best_history = []\n",
        "tmp = max(history)\n",
        "for i in range(len(history)):\n",
        "  if history[i]<tmp:\n",
        "    best_history.append(history[i])\n",
        "    tmp = history[i]\n",
        "  else:\n",
        "    best_history.append(tmp)\n",
        "\n",
        "#melakukan plot dengan sumbu x adalah jumlah iterasi dan sumbu y adalah jarak\n",
        "plt.plot(range(len(best_history)), best_history, color=\"skyblue\")\n",
        "plt.show()\n",
        "print(best)"
      ],
      "metadata": {
        "id": "iD7TgNHfj43q",
        "colab": {
          "base_uri": "https://localhost:8080/",
          "height": 552
        },
        "outputId": "cc87dd5f-0c2d-4630-b984-3dc26240d9dd"
      },
      "execution_count": null,
      "outputs": [
        {
          "output_type": "stream",
          "name": "stdout",
          "text": [
            "Generation 0: 1066.309940095565\n",
            "Generation 1000: 493.7140610197295\n",
            "Generation 2000: 493.7140610197295\n",
            "Generation 3000: 474.4472712580196\n",
            "Generation 4000: 474.4472712580196\n",
            "Generation 5000: 491.4056227700723\n",
            "Generation 6000: 483.0196935105538\n",
            "Generation 7000: 483.0196935105538\n",
            "Generation 8000: 483.0196935105538\n",
            "Generation 9000: 483.0196935105538\n"
          ]
        },
        {
          "output_type": "display_data",
          "data": {
            "text/plain": [
              "<Figure size 432x288 with 1 Axes>"
            ],
            "image/svg+xml": "<?xml version=\"1.0\" encoding=\"utf-8\" standalone=\"no\"?>\n<!DOCTYPE svg PUBLIC \"-//W3C//DTD SVG 1.1//EN\"\n  \"http://www.w3.org/Graphics/SVG/1.1/DTD/svg11.dtd\">\n<!-- Created with matplotlib (https://matplotlib.org/) -->\n<svg height=\"248.161875pt\" version=\"1.1\" viewBox=\"0 0 378.44375 248.161875\" width=\"378.44375pt\" xmlns=\"http://www.w3.org/2000/svg\" xmlns:xlink=\"http://www.w3.org/1999/xlink\">\n <defs>\n  <style type=\"text/css\">\n*{stroke-linecap:butt;stroke-linejoin:round;}\n  </style>\n </defs>\n <g id=\"figure_1\">\n  <g id=\"patch_1\">\n   <path d=\"M 0 248.161875 \nL 378.44375 248.161875 \nL 378.44375 0 \nL 0 0 \nz\n\" style=\"fill:none;\"/>\n  </g>\n  <g id=\"axes_1\">\n   <g id=\"patch_2\">\n    <path d=\"M 36.44375 224.64 \nL 371.24375 224.64 \nL 371.24375 7.2 \nL 36.44375 7.2 \nz\n\" style=\"fill:#eaeaf2;\"/>\n   </g>\n   <g id=\"matplotlib.axis_1\">\n    <g id=\"xtick_1\">\n     <g id=\"line2d_1\">\n      <path clip-path=\"url(#p1b386f46d2)\" d=\"M 51.661932 224.64 \nL 51.661932 7.2 \n\" style=\"fill:none;stroke:#ffffff;stroke-linecap:round;\"/>\n     </g>\n     <g id=\"line2d_2\"/>\n     <g id=\"text_1\">\n      <!-- 0 -->\n      <defs>\n       <path d=\"M 51.703125 34.421875 \nQ 51.703125 24.515625 49.828125 17.75 \nQ 47.953125 10.984375 44.703125 6.8125 \nQ 41.453125 2.640625 37.0625 0.828125 \nQ 32.671875 -0.984375 27.6875 -0.984375 \nQ 22.65625 -0.984375 18.3125 0.828125 \nQ 13.96875 2.640625 10.765625 6.78125 \nQ 7.5625 10.9375 5.734375 17.703125 \nQ 3.90625 24.46875 3.90625 34.421875 \nQ 3.90625 44.828125 5.734375 51.640625 \nQ 7.5625 58.453125 10.78125 62.5 \nQ 14.015625 66.546875 18.40625 68.1875 \nQ 22.796875 69.828125 27.984375 69.828125 \nQ 32.90625 69.828125 37.21875 68.1875 \nQ 41.546875 66.546875 44.765625 62.5 \nQ 48 58.453125 49.84375 51.640625 \nQ 51.703125 44.828125 51.703125 34.421875 \nz\nM 42.78125 34.421875 \nQ 42.78125 42.625 41.796875 48.0625 \nQ 40.828125 53.515625 38.921875 56.765625 \nQ 37.015625 60.015625 34.25 61.359375 \nQ 31.5 62.703125 27.984375 62.703125 \nQ 24.265625 62.703125 21.4375 61.328125 \nQ 18.609375 59.96875 16.671875 56.71875 \nQ 14.75 53.46875 13.765625 48.015625 \nQ 12.796875 42.578125 12.796875 34.421875 \nQ 12.796875 26.515625 13.796875 21.09375 \nQ 14.796875 15.671875 16.71875 12.375 \nQ 18.65625 9.078125 21.4375 7.640625 \nQ 24.21875 6.203125 27.78125 6.203125 \nQ 31.25 6.203125 34.03125 7.640625 \nQ 36.8125 9.078125 38.734375 12.375 \nQ 40.671875 15.671875 41.71875 21.09375 \nQ 42.78125 26.515625 42.78125 34.421875 \nz\n\" id=\"LiberationSans-48\"/>\n      </defs>\n      <g style=\"fill:#262626;\" transform=\"translate(48.881463 238.886875)scale(0.1 -0.1)\">\n       <use xlink:href=\"#LiberationSans-48\"/>\n      </g>\n     </g>\n    </g>\n    <g id=\"xtick_2\">\n     <g id=\"line2d_3\">\n      <path clip-path=\"url(#p1b386f46d2)\" d=\"M 112.540747 224.64 \nL 112.540747 7.2 \n\" style=\"fill:none;stroke:#ffffff;stroke-linecap:round;\"/>\n     </g>\n     <g id=\"line2d_4\"/>\n     <g id=\"text_2\">\n      <!-- 2000 -->\n      <defs>\n       <path d=\"M 5.03125 0 \nL 5.03125 6.203125 \nQ 7.515625 11.921875 11.109375 16.28125 \nQ 14.703125 20.65625 18.65625 24.1875 \nQ 22.609375 27.734375 26.484375 30.765625 \nQ 30.375 33.796875 33.5 36.8125 \nQ 36.625 39.84375 38.546875 43.15625 \nQ 40.484375 46.484375 40.484375 50.6875 \nQ 40.484375 53.609375 39.59375 55.828125 \nQ 38.71875 58.0625 37.0625 59.5625 \nQ 35.40625 61.078125 33.078125 61.828125 \nQ 30.765625 62.59375 27.9375 62.59375 \nQ 25.296875 62.59375 22.96875 61.859375 \nQ 20.65625 61.140625 18.84375 59.671875 \nQ 17.046875 58.203125 15.890625 56.03125 \nQ 14.75 53.859375 14.40625 50.984375 \nL 5.421875 51.8125 \nQ 5.859375 55.515625 7.46875 58.78125 \nQ 9.078125 62.0625 11.90625 64.53125 \nQ 14.75 67 18.71875 68.40625 \nQ 22.703125 69.828125 27.9375 69.828125 \nQ 33.0625 69.828125 37.0625 68.609375 \nQ 41.0625 67.390625 43.8125 64.984375 \nQ 46.578125 62.59375 48.046875 59.078125 \nQ 49.515625 55.5625 49.515625 50.984375 \nQ 49.515625 47.515625 48.265625 44.390625 \nQ 47.015625 41.265625 44.9375 38.421875 \nQ 42.875 35.59375 40.140625 32.953125 \nQ 37.40625 30.328125 34.421875 27.8125 \nQ 31.453125 25.296875 28.421875 22.828125 \nQ 25.390625 20.359375 22.71875 17.859375 \nQ 20.0625 15.375 17.96875 12.8125 \nQ 15.875 10.25 14.703125 7.46875 \nL 50.59375 7.46875 \nL 50.59375 0 \nz\n\" id=\"LiberationSans-50\"/>\n      </defs>\n      <g style=\"fill:#262626;\" transform=\"translate(101.418872 238.886875)scale(0.1 -0.1)\">\n       <use xlink:href=\"#LiberationSans-50\"/>\n       <use x=\"55.615234\" xlink:href=\"#LiberationSans-48\"/>\n       <use x=\"111.230469\" xlink:href=\"#LiberationSans-48\"/>\n       <use x=\"166.845703\" xlink:href=\"#LiberationSans-48\"/>\n      </g>\n     </g>\n    </g>\n    <g id=\"xtick_3\">\n     <g id=\"line2d_5\">\n      <path clip-path=\"url(#p1b386f46d2)\" d=\"M 173.419562 224.64 \nL 173.419562 7.2 \n\" style=\"fill:none;stroke:#ffffff;stroke-linecap:round;\"/>\n     </g>\n     <g id=\"line2d_6\"/>\n     <g id=\"text_3\">\n      <!-- 4000 -->\n      <defs>\n       <path d=\"M 43.015625 15.578125 \nL 43.015625 0 \nL 34.71875 0 \nL 34.71875 15.578125 \nL 2.296875 15.578125 \nL 2.296875 22.40625 \nL 33.796875 68.796875 \nL 43.015625 68.796875 \nL 43.015625 22.515625 \nL 52.6875 22.515625 \nL 52.6875 15.578125 \nz\nM 34.71875 58.890625 \nQ 34.625 58.640625 34.234375 57.9375 \nQ 33.84375 57.234375 33.34375 56.34375 \nQ 32.859375 55.46875 32.34375 54.5625 \nQ 31.84375 53.65625 31.453125 53.078125 \nL 13.8125 27.09375 \nQ 13.578125 26.703125 13.109375 26.0625 \nQ 12.640625 25.4375 12.15625 24.78125 \nQ 11.671875 24.125 11.171875 23.484375 \nQ 10.6875 22.859375 10.40625 22.515625 \nL 34.71875 22.515625 \nz\n\" id=\"LiberationSans-52\"/>\n      </defs>\n      <g style=\"fill:#262626;\" transform=\"translate(162.297687 238.886875)scale(0.1 -0.1)\">\n       <use xlink:href=\"#LiberationSans-52\"/>\n       <use x=\"55.615234\" xlink:href=\"#LiberationSans-48\"/>\n       <use x=\"111.230469\" xlink:href=\"#LiberationSans-48\"/>\n       <use x=\"166.845703\" xlink:href=\"#LiberationSans-48\"/>\n      </g>\n     </g>\n    </g>\n    <g id=\"xtick_4\">\n     <g id=\"line2d_7\">\n      <path clip-path=\"url(#p1b386f46d2)\" d=\"M 234.298377 224.64 \nL 234.298377 7.2 \n\" style=\"fill:none;stroke:#ffffff;stroke-linecap:round;\"/>\n     </g>\n     <g id=\"line2d_8\"/>\n     <g id=\"text_4\">\n      <!-- 6000 -->\n      <defs>\n       <path d=\"M 51.21875 22.515625 \nQ 51.21875 17.328125 49.78125 13 \nQ 48.34375 8.6875 45.53125 5.578125 \nQ 42.71875 2.484375 38.5625 0.75 \nQ 34.421875 -0.984375 29 -0.984375 \nQ 23 -0.984375 18.5 1.3125 \nQ 14.015625 3.609375 11.03125 7.921875 \nQ 8.0625 12.25 6.5625 18.53125 \nQ 5.078125 24.8125 5.078125 32.8125 \nQ 5.078125 42 6.765625 48.921875 \nQ 8.453125 55.859375 11.625 60.5 \nQ 14.796875 65.140625 19.359375 67.484375 \nQ 23.921875 69.828125 29.6875 69.828125 \nQ 33.203125 69.828125 36.28125 69.09375 \nQ 39.359375 68.359375 41.875 66.71875 \nQ 44.390625 65.09375 46.28125 62.40625 \nQ 48.1875 59.71875 49.3125 55.8125 \nL 40.921875 54.296875 \nQ 39.546875 58.734375 36.546875 60.71875 \nQ 33.546875 62.703125 29.59375 62.703125 \nQ 25.984375 62.703125 23.046875 60.984375 \nQ 20.125 59.28125 18.0625 55.875 \nQ 16.015625 52.484375 14.90625 47.359375 \nQ 13.8125 42.234375 13.8125 35.40625 \nQ 16.21875 39.84375 20.5625 42.15625 \nQ 24.90625 44.484375 30.515625 44.484375 \nQ 35.203125 44.484375 39.015625 42.96875 \nQ 42.828125 41.453125 45.53125 38.59375 \nQ 48.25 35.75 49.734375 31.671875 \nQ 51.21875 27.59375 51.21875 22.515625 \nz\nM 42.28125 22.125 \nQ 42.28125 25.6875 41.40625 28.5625 \nQ 40.53125 31.453125 38.765625 33.46875 \nQ 37.015625 35.5 34.421875 36.59375 \nQ 31.84375 37.703125 28.421875 37.703125 \nQ 26.03125 37.703125 23.578125 36.984375 \nQ 21.140625 36.28125 19.15625 34.6875 \nQ 17.1875 33.109375 15.9375 30.515625 \nQ 14.703125 27.9375 14.703125 24.21875 \nQ 14.703125 20.40625 15.671875 17.109375 \nQ 16.65625 13.8125 18.484375 11.375 \nQ 20.3125 8.9375 22.890625 7.515625 \nQ 25.484375 6.109375 28.71875 6.109375 \nQ 31.890625 6.109375 34.40625 7.203125 \nQ 36.921875 8.296875 38.671875 10.375 \nQ 40.4375 12.453125 41.359375 15.421875 \nQ 42.28125 18.40625 42.28125 22.125 \nz\n\" id=\"LiberationSans-54\"/>\n      </defs>\n      <g style=\"fill:#262626;\" transform=\"translate(223.176502 238.886875)scale(0.1 -0.1)\">\n       <use xlink:href=\"#LiberationSans-54\"/>\n       <use x=\"55.615234\" xlink:href=\"#LiberationSans-48\"/>\n       <use x=\"111.230469\" xlink:href=\"#LiberationSans-48\"/>\n       <use x=\"166.845703\" xlink:href=\"#LiberationSans-48\"/>\n      </g>\n     </g>\n    </g>\n    <g id=\"xtick_5\">\n     <g id=\"line2d_9\">\n      <path clip-path=\"url(#p1b386f46d2)\" d=\"M 295.177192 224.64 \nL 295.177192 7.2 \n\" style=\"fill:none;stroke:#ffffff;stroke-linecap:round;\"/>\n     </g>\n     <g id=\"line2d_10\"/>\n     <g id=\"text_5\">\n      <!-- 8000 -->\n      <defs>\n       <path d=\"M 51.265625 19.1875 \nQ 51.265625 14.796875 49.875 11.109375 \nQ 48.484375 7.421875 45.625 4.734375 \nQ 42.78125 2.046875 38.328125 0.53125 \nQ 33.890625 -0.984375 27.828125 -0.984375 \nQ 21.78125 -0.984375 17.359375 0.53125 \nQ 12.9375 2.046875 10.03125 4.703125 \nQ 7.125 7.375 5.734375 11.0625 \nQ 4.34375 14.75 4.34375 19.09375 \nQ 4.34375 22.859375 5.484375 25.78125 \nQ 6.640625 28.71875 8.5625 30.828125 \nQ 10.5 32.953125 12.96875 34.25 \nQ 15.4375 35.546875 18.0625 35.984375 \nL 18.0625 36.1875 \nQ 15.1875 36.859375 12.90625 38.375 \nQ 10.640625 39.890625 9.09375 42.015625 \nQ 7.5625 44.140625 6.75 46.71875 \nQ 5.953125 49.3125 5.953125 52.203125 \nQ 5.953125 55.8125 7.34375 59 \nQ 8.734375 62.203125 11.46875 64.625 \nQ 14.203125 67.046875 18.25 68.4375 \nQ 22.3125 69.828125 27.640625 69.828125 \nQ 33.25 69.828125 37.375 68.40625 \nQ 41.5 67 44.203125 64.578125 \nQ 46.921875 62.15625 48.234375 58.9375 \nQ 49.5625 55.71875 49.5625 52.09375 \nQ 49.5625 49.265625 48.75 46.671875 \nQ 47.953125 44.09375 46.40625 41.96875 \nQ 44.875 39.84375 42.59375 38.34375 \nQ 40.328125 36.859375 37.359375 36.28125 \nL 37.359375 36.078125 \nQ 40.328125 35.59375 42.859375 34.296875 \nQ 45.40625 33.015625 47.265625 30.890625 \nQ 49.125 28.765625 50.1875 25.828125 \nQ 51.265625 22.90625 51.265625 19.1875 \nz\nM 40.4375 51.609375 \nQ 40.4375 54.203125 39.765625 56.34375 \nQ 39.109375 58.5 37.59375 60.03125 \nQ 36.078125 61.578125 33.640625 62.421875 \nQ 31.203125 63.28125 27.640625 63.28125 \nQ 24.171875 63.28125 21.78125 62.421875 \nQ 19.390625 61.578125 17.84375 60.03125 \nQ 16.3125 58.5 15.625 56.34375 \nQ 14.9375 54.203125 14.9375 51.609375 \nQ 14.9375 49.5625 15.46875 47.40625 \nQ 16.015625 45.265625 17.421875 43.5 \nQ 18.84375 41.75 21.328125 40.625 \nQ 23.828125 39.5 27.734375 39.5 \nQ 31.890625 39.5 34.40625 40.625 \nQ 36.921875 41.75 38.25 43.5 \nQ 39.59375 45.265625 40.015625 47.40625 \nQ 40.4375 49.5625 40.4375 51.609375 \nz\nM 42.140625 20.015625 \nQ 42.140625 22.515625 41.453125 24.828125 \nQ 40.765625 27.15625 39.109375 28.9375 \nQ 37.453125 30.71875 34.640625 31.8125 \nQ 31.84375 32.90625 27.640625 32.90625 \nQ 23.78125 32.90625 21.0625 31.8125 \nQ 18.359375 30.71875 16.671875 28.90625 \nQ 14.984375 27.09375 14.203125 24.71875 \nQ 13.421875 22.359375 13.421875 19.828125 \nQ 13.421875 16.65625 14.203125 14.03125 \nQ 14.984375 11.421875 16.6875 9.546875 \nQ 18.40625 7.671875 21.1875 6.640625 \nQ 23.96875 5.609375 27.9375 5.609375 \nQ 31.9375 5.609375 34.671875 6.640625 \nQ 37.40625 7.671875 39.0625 9.546875 \nQ 40.71875 11.421875 41.421875 14.078125 \nQ 42.140625 16.75 42.140625 20.015625 \nz\n\" id=\"LiberationSans-56\"/>\n      </defs>\n      <g style=\"fill:#262626;\" transform=\"translate(284.055317 238.886875)scale(0.1 -0.1)\">\n       <use xlink:href=\"#LiberationSans-56\"/>\n       <use x=\"55.615234\" xlink:href=\"#LiberationSans-48\"/>\n       <use x=\"111.230469\" xlink:href=\"#LiberationSans-48\"/>\n       <use x=\"166.845703\" xlink:href=\"#LiberationSans-48\"/>\n      </g>\n     </g>\n    </g>\n    <g id=\"xtick_6\">\n     <g id=\"line2d_11\">\n      <path clip-path=\"url(#p1b386f46d2)\" d=\"M 356.056008 224.64 \nL 356.056008 7.2 \n\" style=\"fill:none;stroke:#ffffff;stroke-linecap:round;\"/>\n     </g>\n     <g id=\"line2d_12\"/>\n     <g id=\"text_6\">\n      <!-- 10000 -->\n      <defs>\n       <path d=\"M 7.625 0 \nL 7.625 7.46875 \nL 25.140625 7.46875 \nL 25.140625 60.40625 \nL 9.625 49.3125 \nL 9.625 57.625 \nL 25.875 68.796875 \nL 33.984375 68.796875 \nL 33.984375 7.46875 \nL 50.734375 7.46875 \nL 50.734375 0 \nz\n\" id=\"LiberationSans-49\"/>\n      </defs>\n      <g style=\"fill:#262626;\" transform=\"translate(342.153664 238.886875)scale(0.1 -0.1)\">\n       <use xlink:href=\"#LiberationSans-49\"/>\n       <use x=\"55.615234\" xlink:href=\"#LiberationSans-48\"/>\n       <use x=\"111.230469\" xlink:href=\"#LiberationSans-48\"/>\n       <use x=\"166.845703\" xlink:href=\"#LiberationSans-48\"/>\n       <use x=\"222.460938\" xlink:href=\"#LiberationSans-48\"/>\n      </g>\n     </g>\n    </g>\n   </g>\n   <g id=\"matplotlib.axis_2\">\n    <g id=\"ytick_1\">\n     <g id=\"line2d_13\">\n      <path clip-path=\"url(#p1b386f46d2)\" d=\"M 36.44375 206.222158 \nL 371.24375 206.222158 \n\" style=\"fill:none;stroke:#ffffff;stroke-linecap:round;\"/>\n     </g>\n     <g id=\"line2d_14\"/>\n     <g id=\"text_7\">\n      <!-- 500 -->\n      <defs>\n       <path d=\"M 51.421875 22.40625 \nQ 51.421875 17.234375 49.859375 12.9375 \nQ 48.296875 8.640625 45.21875 5.53125 \nQ 42.140625 2.4375 37.578125 0.71875 \nQ 33.015625 -0.984375 27 -0.984375 \nQ 21.578125 -0.984375 17.546875 0.28125 \nQ 13.53125 1.5625 10.734375 3.78125 \nQ 7.953125 6 6.3125 8.984375 \nQ 4.6875 11.96875 4 15.375 \nL 12.890625 16.40625 \nQ 13.421875 14.453125 14.390625 12.625 \nQ 15.375 10.796875 17.0625 9.34375 \nQ 18.75 7.90625 21.21875 7.046875 \nQ 23.6875 6.203125 27.203125 6.203125 \nQ 30.609375 6.203125 33.390625 7.25 \nQ 36.1875 8.296875 38.15625 10.34375 \nQ 40.140625 12.40625 41.203125 15.375 \nQ 42.28125 18.359375 42.28125 22.21875 \nQ 42.28125 25.390625 41.25 28.046875 \nQ 40.234375 30.71875 38.328125 32.640625 \nQ 36.421875 34.578125 33.65625 35.640625 \nQ 30.90625 36.71875 27.390625 36.71875 \nQ 25.203125 36.71875 23.34375 36.328125 \nQ 21.484375 35.9375 19.890625 35.25 \nQ 18.3125 34.578125 17.015625 33.671875 \nQ 15.71875 32.765625 14.59375 31.78125 \nL 6 31.78125 \nL 8.296875 68.796875 \nL 47.40625 68.796875 \nL 47.40625 61.328125 \nL 16.3125 61.328125 \nL 14.984375 39.5 \nQ 17.328125 41.3125 20.84375 42.59375 \nQ 24.359375 43.890625 29.203125 43.890625 \nQ 34.328125 43.890625 38.421875 42.328125 \nQ 42.53125 40.765625 45.40625 37.90625 \nQ 48.296875 35.0625 49.859375 31.109375 \nQ 51.421875 27.15625 51.421875 22.40625 \nz\n\" id=\"LiberationSans-53\"/>\n      </defs>\n      <g style=\"fill:#262626;\" transform=\"translate(12.760938 209.845596)scale(0.1 -0.1)\">\n       <use xlink:href=\"#LiberationSans-53\"/>\n       <use x=\"55.615234\" xlink:href=\"#LiberationSans-48\"/>\n       <use x=\"111.230469\" xlink:href=\"#LiberationSans-48\"/>\n      </g>\n     </g>\n    </g>\n    <g id=\"ytick_2\">\n     <g id=\"line2d_15\">\n      <path clip-path=\"url(#p1b386f46d2)\" d=\"M 36.44375 172.823747 \nL 371.24375 172.823747 \n\" style=\"fill:none;stroke:#ffffff;stroke-linecap:round;\"/>\n     </g>\n     <g id=\"line2d_16\"/>\n     <g id=\"text_8\">\n      <!-- 600 -->\n      <g style=\"fill:#262626;\" transform=\"translate(12.760938 176.447185)scale(0.1 -0.1)\">\n       <use xlink:href=\"#LiberationSans-54\"/>\n       <use x=\"55.615234\" xlink:href=\"#LiberationSans-48\"/>\n       <use x=\"111.230469\" xlink:href=\"#LiberationSans-48\"/>\n      </g>\n     </g>\n    </g>\n    <g id=\"ytick_3\">\n     <g id=\"line2d_17\">\n      <path clip-path=\"url(#p1b386f46d2)\" d=\"M 36.44375 139.425336 \nL 371.24375 139.425336 \n\" style=\"fill:none;stroke:#ffffff;stroke-linecap:round;\"/>\n     </g>\n     <g id=\"line2d_18\"/>\n     <g id=\"text_9\">\n      <!-- 700 -->\n      <defs>\n       <path d=\"M 50.59375 61.671875 \nQ 45.40625 53.765625 41.0625 46.453125 \nQ 36.71875 39.15625 33.59375 31.75 \nQ 30.46875 24.359375 28.734375 16.578125 \nQ 27 8.796875 27 0 \nL 17.828125 0 \nQ 17.828125 8.25 19.78125 16.1875 \nQ 21.734375 24.125 25.046875 31.765625 \nQ 28.375 39.40625 32.765625 46.78125 \nQ 37.15625 54.15625 42.09375 61.328125 \nL 5.125 61.328125 \nL 5.125 68.796875 \nL 50.59375 68.796875 \nz\n\" id=\"LiberationSans-55\"/>\n      </defs>\n      <g style=\"fill:#262626;\" transform=\"translate(12.760938 143.048774)scale(0.1 -0.1)\">\n       <use xlink:href=\"#LiberationSans-55\"/>\n       <use x=\"55.615234\" xlink:href=\"#LiberationSans-48\"/>\n       <use x=\"111.230469\" xlink:href=\"#LiberationSans-48\"/>\n      </g>\n     </g>\n    </g>\n    <g id=\"ytick_4\">\n     <g id=\"line2d_19\">\n      <path clip-path=\"url(#p1b386f46d2)\" d=\"M 36.44375 106.026925 \nL 371.24375 106.026925 \n\" style=\"fill:none;stroke:#ffffff;stroke-linecap:round;\"/>\n     </g>\n     <g id=\"line2d_20\"/>\n     <g id=\"text_10\">\n      <!-- 800 -->\n      <g style=\"fill:#262626;\" transform=\"translate(12.760938 109.650362)scale(0.1 -0.1)\">\n       <use xlink:href=\"#LiberationSans-56\"/>\n       <use x=\"55.615234\" xlink:href=\"#LiberationSans-48\"/>\n       <use x=\"111.230469\" xlink:href=\"#LiberationSans-48\"/>\n      </g>\n     </g>\n    </g>\n    <g id=\"ytick_5\">\n     <g id=\"line2d_21\">\n      <path clip-path=\"url(#p1b386f46d2)\" d=\"M 36.44375 72.628514 \nL 371.24375 72.628514 \n\" style=\"fill:none;stroke:#ffffff;stroke-linecap:round;\"/>\n     </g>\n     <g id=\"line2d_22\"/>\n     <g id=\"text_11\">\n      <!-- 900 -->\n      <defs>\n       <path d=\"M 50.875 35.796875 \nQ 50.875 26.609375 49.140625 19.703125 \nQ 47.40625 12.796875 44.1875 8.203125 \nQ 40.96875 3.609375 36.34375 1.3125 \nQ 31.734375 -0.984375 25.984375 -0.984375 \nQ 22.015625 -0.984375 18.84375 -0.171875 \nQ 15.671875 0.640625 13.171875 2.34375 \nQ 10.6875 4.046875 8.921875 6.78125 \nQ 7.171875 9.515625 6.109375 13.375 \nL 14.5 14.703125 \nQ 15.875 10.25 18.78125 8.171875 \nQ 21.6875 6.109375 26.125 6.109375 \nQ 29.6875 6.109375 32.640625 7.78125 \nQ 35.59375 9.46875 37.671875 12.84375 \nQ 39.75 16.21875 40.921875 21.296875 \nQ 42.09375 26.375 42.1875 33.203125 \nQ 41.15625 30.90625 39.375 29.09375 \nQ 37.59375 27.296875 35.328125 26.046875 \nQ 33.0625 24.8125 30.421875 24.140625 \nQ 27.78125 23.484375 25.09375 23.484375 \nQ 20.40625 23.484375 16.625 25.171875 \nQ 12.84375 26.859375 10.203125 29.875 \nQ 7.5625 32.90625 6.125 37.171875 \nQ 4.6875 41.453125 4.6875 46.6875 \nQ 4.6875 52 6.21875 56.296875 \nQ 7.765625 60.59375 10.6875 63.59375 \nQ 13.625 66.609375 17.890625 68.21875 \nQ 22.171875 69.828125 27.59375 69.828125 \nQ 39.0625 69.828125 44.96875 61.328125 \nQ 50.875 52.828125 50.875 35.796875 \nz\nM 41.3125 44.28125 \nQ 41.3125 48.09375 40.40625 51.453125 \nQ 39.5 54.828125 37.71875 57.3125 \nQ 35.9375 59.8125 33.328125 61.25 \nQ 30.71875 62.703125 27.296875 62.703125 \nQ 24.125 62.703125 21.578125 61.578125 \nQ 19.046875 60.453125 17.28125 58.375 \nQ 15.53125 56.296875 14.578125 53.3125 \nQ 13.625 50.34375 13.625 46.6875 \nQ 13.625 43.21875 14.46875 40.234375 \nQ 15.328125 37.25 17.03125 35.078125 \nQ 18.75 32.90625 21.28125 31.65625 \nQ 23.828125 30.421875 27.203125 30.421875 \nQ 29.640625 30.421875 32.15625 31.25 \nQ 34.671875 32.078125 36.6875 33.78125 \nQ 38.71875 35.5 40.015625 38.109375 \nQ 41.3125 40.71875 41.3125 44.28125 \nz\n\" id=\"LiberationSans-57\"/>\n      </defs>\n      <g style=\"fill:#262626;\" transform=\"translate(12.760938 76.251951)scale(0.1 -0.1)\">\n       <use xlink:href=\"#LiberationSans-57\"/>\n       <use x=\"55.615234\" xlink:href=\"#LiberationSans-48\"/>\n       <use x=\"111.230469\" xlink:href=\"#LiberationSans-48\"/>\n      </g>\n     </g>\n    </g>\n    <g id=\"ytick_6\">\n     <g id=\"line2d_23\">\n      <path clip-path=\"url(#p1b386f46d2)\" d=\"M 36.44375 39.230103 \nL 371.24375 39.230103 \n\" style=\"fill:none;stroke:#ffffff;stroke-linecap:round;\"/>\n     </g>\n     <g id=\"line2d_24\"/>\n     <g id=\"text_12\">\n      <!-- 1000 -->\n      <g style=\"fill:#262626;\" transform=\"translate(7.2 42.85354)scale(0.1 -0.1)\">\n       <use xlink:href=\"#LiberationSans-49\"/>\n       <use x=\"55.615234\" xlink:href=\"#LiberationSans-48\"/>\n       <use x=\"111.230469\" xlink:href=\"#LiberationSans-48\"/>\n       <use x=\"166.845703\" xlink:href=\"#LiberationSans-48\"/>\n      </g>\n     </g>\n    </g>\n   </g>\n   <g id=\"line2d_25\">\n    <path clip-path=\"url(#p1b386f46d2)\" d=\"M 51.661932 17.083636 \nL 51.722811 21.59624 \nL 51.875008 97.193572 \nL 52.27072 125.461094 \nL 52.331599 125.461094 \nL 52.483796 128.357917 \nL 52.879508 128.357917 \nL 53.031705 136.09357 \nL 53.123023 136.09357 \nL 53.30566 171.438708 \nL 53.336099 171.438708 \nL 53.457857 192.285462 \nL 54.401479 192.285462 \nL 54.675433 203.098146 \nL 54.918948 203.098146 \nL 55.040706 205.324023 \nL 55.984328 205.324023 \nL 56.106085 208.321562 \nL 133.574378 208.321562 \nL 133.696135 214.756364 \nL 356.025568 214.756364 \nL 356.025568 214.756364 \n\" style=\"fill:none;stroke:#87ceeb;stroke-linecap:round;stroke-width:1.75;\"/>\n   </g>\n   <g id=\"patch_3\">\n    <path d=\"M 36.44375 224.64 \nL 36.44375 7.2 \n\" style=\"fill:none;\"/>\n   </g>\n   <g id=\"patch_4\">\n    <path d=\"M 371.24375 224.64 \nL 371.24375 7.2 \n\" style=\"fill:none;\"/>\n   </g>\n   <g id=\"patch_5\">\n    <path d=\"M 36.44375 224.64 \nL 371.24375 224.64 \n\" style=\"fill:none;\"/>\n   </g>\n   <g id=\"patch_6\">\n    <path d=\"M 36.44375 7.2 \nL 371.24375 7.2 \n\" style=\"fill:none;\"/>\n   </g>\n  </g>\n </g>\n <defs>\n  <clipPath id=\"p1b386f46d2\">\n   <rect height=\"217.44\" width=\"334.8\" x=\"36.44375\" y=\"7.2\"/>\n  </clipPath>\n </defs>\n</svg>\n"
          },
          "metadata": {
            "needs_background": "light"
          }
        },
        {
          "output_type": "stream",
          "name": "stdout",
          "text": [
            "[11, 16, 13, 12, 14, 18, 15, 8, 10, 17, 19, 5, 7, 2, 1, 0, 3, 4, 9, 6]\n"
          ]
        }
      ]
    },
    {
      "cell_type": "code",
      "source": [
        "start_city = city_coordinates[best][0]\n",
        "last_city = city_coordinates[best][-1]\n",
        "print(start_city,last_city )"
      ],
      "metadata": {
        "id": "IbE-xdTHbRjb",
        "colab": {
          "base_uri": "https://localhost:8080/"
        },
        "outputId": "dff316a2-6480-4050-89d2-7be717f3e618"
      },
      "execution_count": null,
      "outputs": [
        {
          "output_type": "stream",
          "name": "stdout",
          "text": [
            "[21 85] [57 69]\n"
          ]
        }
      ]
    },
    {
      "cell_type": "code",
      "source": [
        "last_distance = last_city - start_city\n",
        "last_distance"
      ],
      "metadata": {
        "colab": {
          "base_uri": "https://localhost:8080/"
        },
        "id": "JRvFu1IGaeSF",
        "outputId": "f7425ae6-7ca9-40a8-fc35-e3aa73f10f0c"
      },
      "execution_count": null,
      "outputs": [
        {
          "output_type": "execute_result",
          "data": {
            "text/plain": [
              "array([ 36, -16])"
            ]
          },
          "metadata": {},
          "execution_count": 24
        }
      ]
    },
    {
      "cell_type": "code",
      "source": [
        "jarak_x = last_distance[0]\n",
        "jarak_y = last_distance[1]\n",
        "\n",
        "return_distance = np.sqrt((jarak_x)**2 + (jarak_y)**2)\n",
        "return_distance"
      ],
      "metadata": {
        "colab": {
          "base_uri": "https://localhost:8080/"
        },
        "id": "xX-9ia_batzk",
        "outputId": "3ddce338-feb2-4512-89f4-58dbfdb1f572"
      },
      "execution_count": null,
      "outputs": [
        {
          "output_type": "execute_result",
          "data": {
            "text/plain": [
              "39.395431207184416"
            ]
          },
          "metadata": {},
          "execution_count": 25
        }
      ]
    },
    {
      "cell_type": "code",
      "source": [
        "history[-1]"
      ],
      "metadata": {
        "colab": {
          "base_uri": "https://localhost:8080/"
        },
        "id": "F4VYHWOkbMqG",
        "outputId": "ba715511-6b49-4906-d883-60357d67e5d3"
      },
      "execution_count": null,
      "outputs": [
        {
          "output_type": "execute_result",
          "data": {
            "text/plain": [
              "497.99927944047647"
            ]
          },
          "metadata": {},
          "execution_count": 26
        }
      ]
    },
    {
      "cell_type": "code",
      "source": [
        "total_distance = return_distance+history[-1]\n",
        "total_distance"
      ],
      "metadata": {
        "colab": {
          "base_uri": "https://localhost:8080/"
        },
        "id": "D0xIAJu-bTbF",
        "outputId": "09dcbc76-b30b-400f-d701-474fa9bd9b2d"
      },
      "execution_count": null,
      "outputs": [
        {
          "output_type": "execute_result",
          "data": {
            "text/plain": [
              "537.3947106476609"
            ]
          },
          "metadata": {},
          "execution_count": 27
        }
      ]
    },
    {
      "cell_type": "code",
      "source": [
        "#membuat fungsi untuk menampilkan rute perjalanan dengan jarak terdekat\n",
        "def print_path(best, city_coordinates):\n",
        "    points = list(city_coordinates[best])\n",
        "    points.append(city_coordinates[best][0])\n",
        "    x, y = zip(*points)\n",
        "    plt.plot(x, y, color=\"skyblue\", marker=\"o\")"
      ],
      "metadata": {
        "id": "40dHVoeQf9YR"
      },
      "execution_count": null,
      "outputs": []
    },
    {
      "cell_type": "code",
      "source": [
        "print_path(best, city_coordinates)"
      ],
      "metadata": {
        "colab": {
          "base_uri": "https://localhost:8080/",
          "height": 352
        },
        "id": "bwtsFdknf_PW",
        "outputId": "715386e7-4986-44f8-a517-5487fc4db0a1"
      },
      "execution_count": null,
      "outputs": [
        {
          "output_type": "display_data",
          "data": {
            "text/plain": [
              "<Figure size 432x288 with 1 Axes>"
            ],
            "image/svg+xml": "<?xml version=\"1.0\" encoding=\"utf-8\" standalone=\"no\"?>\n<!DOCTYPE svg PUBLIC \"-//W3C//DTD SVG 1.1//EN\"\n  \"http://www.w3.org/Graphics/SVG/1.1/DTD/svg11.dtd\">\n<!-- Created with matplotlib (https://matplotlib.org/) -->\n<svg height=\"248.161875pt\" version=\"1.1\" viewBox=\"0 0 372.882812 248.161875\" width=\"372.882812pt\" xmlns=\"http://www.w3.org/2000/svg\" xmlns:xlink=\"http://www.w3.org/1999/xlink\">\n <defs>\n  <style type=\"text/css\">\n*{stroke-linecap:butt;stroke-linejoin:round;}\n  </style>\n </defs>\n <g id=\"figure_1\">\n  <g id=\"patch_1\">\n   <path d=\"M 0 248.161875 \nL 372.882812 248.161875 \nL 372.882812 0 \nL 0 0 \nz\n\" style=\"fill:none;\"/>\n  </g>\n  <g id=\"axes_1\">\n   <g id=\"patch_2\">\n    <path d=\"M 30.882813 224.64 \nL 365.682813 224.64 \nL 365.682813 7.2 \nL 30.882813 7.2 \nz\n\" style=\"fill:#eaeaf2;\"/>\n   </g>\n   <g id=\"matplotlib.axis_1\">\n    <g id=\"xtick_1\">\n     <g id=\"line2d_1\">\n      <path clip-path=\"url(#pb3693c285d)\" d=\"M 46.100994 224.64 \nL 46.100994 7.2 \n\" style=\"fill:none;stroke:#ffffff;stroke-linecap:round;\"/>\n     </g>\n     <g id=\"line2d_2\"/>\n     <g id=\"text_1\">\n      <!-- 0 -->\n      <defs>\n       <path d=\"M 51.703125 34.421875 \nQ 51.703125 24.515625 49.828125 17.75 \nQ 47.953125 10.984375 44.703125 6.8125 \nQ 41.453125 2.640625 37.0625 0.828125 \nQ 32.671875 -0.984375 27.6875 -0.984375 \nQ 22.65625 -0.984375 18.3125 0.828125 \nQ 13.96875 2.640625 10.765625 6.78125 \nQ 7.5625 10.9375 5.734375 17.703125 \nQ 3.90625 24.46875 3.90625 34.421875 \nQ 3.90625 44.828125 5.734375 51.640625 \nQ 7.5625 58.453125 10.78125 62.5 \nQ 14.015625 66.546875 18.40625 68.1875 \nQ 22.796875 69.828125 27.984375 69.828125 \nQ 32.90625 69.828125 37.21875 68.1875 \nQ 41.546875 66.546875 44.765625 62.5 \nQ 48 58.453125 49.84375 51.640625 \nQ 51.703125 44.828125 51.703125 34.421875 \nz\nM 42.78125 34.421875 \nQ 42.78125 42.625 41.796875 48.0625 \nQ 40.828125 53.515625 38.921875 56.765625 \nQ 37.015625 60.015625 34.25 61.359375 \nQ 31.5 62.703125 27.984375 62.703125 \nQ 24.265625 62.703125 21.4375 61.328125 \nQ 18.609375 59.96875 16.671875 56.71875 \nQ 14.75 53.46875 13.765625 48.015625 \nQ 12.796875 42.578125 12.796875 34.421875 \nQ 12.796875 26.515625 13.796875 21.09375 \nQ 14.796875 15.671875 16.71875 12.375 \nQ 18.65625 9.078125 21.4375 7.640625 \nQ 24.21875 6.203125 27.78125 6.203125 \nQ 31.25 6.203125 34.03125 7.640625 \nQ 36.8125 9.078125 38.734375 12.375 \nQ 40.671875 15.671875 41.71875 21.09375 \nQ 42.78125 26.515625 42.78125 34.421875 \nz\n\" id=\"LiberationSans-48\"/>\n      </defs>\n      <g style=\"fill:#262626;\" transform=\"translate(43.320526 238.886875)scale(0.1 -0.1)\">\n       <use xlink:href=\"#LiberationSans-48\"/>\n      </g>\n     </g>\n    </g>\n    <g id=\"xtick_2\">\n     <g id=\"line2d_3\">\n      <path clip-path=\"url(#pb3693c285d)\" d=\"M 101.439837 224.64 \nL 101.439837 7.2 \n\" style=\"fill:none;stroke:#ffffff;stroke-linecap:round;\"/>\n     </g>\n     <g id=\"line2d_4\"/>\n     <g id=\"text_2\">\n      <!-- 20 -->\n      <defs>\n       <path d=\"M 5.03125 0 \nL 5.03125 6.203125 \nQ 7.515625 11.921875 11.109375 16.28125 \nQ 14.703125 20.65625 18.65625 24.1875 \nQ 22.609375 27.734375 26.484375 30.765625 \nQ 30.375 33.796875 33.5 36.8125 \nQ 36.625 39.84375 38.546875 43.15625 \nQ 40.484375 46.484375 40.484375 50.6875 \nQ 40.484375 53.609375 39.59375 55.828125 \nQ 38.71875 58.0625 37.0625 59.5625 \nQ 35.40625 61.078125 33.078125 61.828125 \nQ 30.765625 62.59375 27.9375 62.59375 \nQ 25.296875 62.59375 22.96875 61.859375 \nQ 20.65625 61.140625 18.84375 59.671875 \nQ 17.046875 58.203125 15.890625 56.03125 \nQ 14.75 53.859375 14.40625 50.984375 \nL 5.421875 51.8125 \nQ 5.859375 55.515625 7.46875 58.78125 \nQ 9.078125 62.0625 11.90625 64.53125 \nQ 14.75 67 18.71875 68.40625 \nQ 22.703125 69.828125 27.9375 69.828125 \nQ 33.0625 69.828125 37.0625 68.609375 \nQ 41.0625 67.390625 43.8125 64.984375 \nQ 46.578125 62.59375 48.046875 59.078125 \nQ 49.515625 55.5625 49.515625 50.984375 \nQ 49.515625 47.515625 48.265625 44.390625 \nQ 47.015625 41.265625 44.9375 38.421875 \nQ 42.875 35.59375 40.140625 32.953125 \nQ 37.40625 30.328125 34.421875 27.8125 \nQ 31.453125 25.296875 28.421875 22.828125 \nQ 25.390625 20.359375 22.71875 17.859375 \nQ 20.0625 15.375 17.96875 12.8125 \nQ 15.875 10.25 14.703125 7.46875 \nL 50.59375 7.46875 \nL 50.59375 0 \nz\n\" id=\"LiberationSans-50\"/>\n      </defs>\n      <g style=\"fill:#262626;\" transform=\"translate(95.8789 238.886875)scale(0.1 -0.1)\">\n       <use xlink:href=\"#LiberationSans-50\"/>\n       <use x=\"55.615234\" xlink:href=\"#LiberationSans-48\"/>\n      </g>\n     </g>\n    </g>\n    <g id=\"xtick_3\">\n     <g id=\"line2d_5\">\n      <path clip-path=\"url(#pb3693c285d)\" d=\"M 156.77868 224.64 \nL 156.77868 7.2 \n\" style=\"fill:none;stroke:#ffffff;stroke-linecap:round;\"/>\n     </g>\n     <g id=\"line2d_6\"/>\n     <g id=\"text_3\">\n      <!-- 40 -->\n      <defs>\n       <path d=\"M 43.015625 15.578125 \nL 43.015625 0 \nL 34.71875 0 \nL 34.71875 15.578125 \nL 2.296875 15.578125 \nL 2.296875 22.40625 \nL 33.796875 68.796875 \nL 43.015625 68.796875 \nL 43.015625 22.515625 \nL 52.6875 22.515625 \nL 52.6875 15.578125 \nz\nM 34.71875 58.890625 \nQ 34.625 58.640625 34.234375 57.9375 \nQ 33.84375 57.234375 33.34375 56.34375 \nQ 32.859375 55.46875 32.34375 54.5625 \nQ 31.84375 53.65625 31.453125 53.078125 \nL 13.8125 27.09375 \nQ 13.578125 26.703125 13.109375 26.0625 \nQ 12.640625 25.4375 12.15625 24.78125 \nQ 11.671875 24.125 11.171875 23.484375 \nQ 10.6875 22.859375 10.40625 22.515625 \nL 34.71875 22.515625 \nz\n\" id=\"LiberationSans-52\"/>\n      </defs>\n      <g style=\"fill:#262626;\" transform=\"translate(151.217743 238.886875)scale(0.1 -0.1)\">\n       <use xlink:href=\"#LiberationSans-52\"/>\n       <use x=\"55.615234\" xlink:href=\"#LiberationSans-48\"/>\n      </g>\n     </g>\n    </g>\n    <g id=\"xtick_4\">\n     <g id=\"line2d_7\">\n      <path clip-path=\"url(#pb3693c285d)\" d=\"M 212.117523 224.64 \nL 212.117523 7.2 \n\" style=\"fill:none;stroke:#ffffff;stroke-linecap:round;\"/>\n     </g>\n     <g id=\"line2d_8\"/>\n     <g id=\"text_4\">\n      <!-- 60 -->\n      <defs>\n       <path d=\"M 51.21875 22.515625 \nQ 51.21875 17.328125 49.78125 13 \nQ 48.34375 8.6875 45.53125 5.578125 \nQ 42.71875 2.484375 38.5625 0.75 \nQ 34.421875 -0.984375 29 -0.984375 \nQ 23 -0.984375 18.5 1.3125 \nQ 14.015625 3.609375 11.03125 7.921875 \nQ 8.0625 12.25 6.5625 18.53125 \nQ 5.078125 24.8125 5.078125 32.8125 \nQ 5.078125 42 6.765625 48.921875 \nQ 8.453125 55.859375 11.625 60.5 \nQ 14.796875 65.140625 19.359375 67.484375 \nQ 23.921875 69.828125 29.6875 69.828125 \nQ 33.203125 69.828125 36.28125 69.09375 \nQ 39.359375 68.359375 41.875 66.71875 \nQ 44.390625 65.09375 46.28125 62.40625 \nQ 48.1875 59.71875 49.3125 55.8125 \nL 40.921875 54.296875 \nQ 39.546875 58.734375 36.546875 60.71875 \nQ 33.546875 62.703125 29.59375 62.703125 \nQ 25.984375 62.703125 23.046875 60.984375 \nQ 20.125 59.28125 18.0625 55.875 \nQ 16.015625 52.484375 14.90625 47.359375 \nQ 13.8125 42.234375 13.8125 35.40625 \nQ 16.21875 39.84375 20.5625 42.15625 \nQ 24.90625 44.484375 30.515625 44.484375 \nQ 35.203125 44.484375 39.015625 42.96875 \nQ 42.828125 41.453125 45.53125 38.59375 \nQ 48.25 35.75 49.734375 31.671875 \nQ 51.21875 27.59375 51.21875 22.515625 \nz\nM 42.28125 22.125 \nQ 42.28125 25.6875 41.40625 28.5625 \nQ 40.53125 31.453125 38.765625 33.46875 \nQ 37.015625 35.5 34.421875 36.59375 \nQ 31.84375 37.703125 28.421875 37.703125 \nQ 26.03125 37.703125 23.578125 36.984375 \nQ 21.140625 36.28125 19.15625 34.6875 \nQ 17.1875 33.109375 15.9375 30.515625 \nQ 14.703125 27.9375 14.703125 24.21875 \nQ 14.703125 20.40625 15.671875 17.109375 \nQ 16.65625 13.8125 18.484375 11.375 \nQ 20.3125 8.9375 22.890625 7.515625 \nQ 25.484375 6.109375 28.71875 6.109375 \nQ 31.890625 6.109375 34.40625 7.203125 \nQ 36.921875 8.296875 38.671875 10.375 \nQ 40.4375 12.453125 41.359375 15.421875 \nQ 42.28125 18.40625 42.28125 22.125 \nz\n\" id=\"LiberationSans-54\"/>\n      </defs>\n      <g style=\"fill:#262626;\" transform=\"translate(206.556586 238.886875)scale(0.1 -0.1)\">\n       <use xlink:href=\"#LiberationSans-54\"/>\n       <use x=\"55.615234\" xlink:href=\"#LiberationSans-48\"/>\n      </g>\n     </g>\n    </g>\n    <g id=\"xtick_5\">\n     <g id=\"line2d_9\">\n      <path clip-path=\"url(#pb3693c285d)\" d=\"M 267.456366 224.64 \nL 267.456366 7.2 \n\" style=\"fill:none;stroke:#ffffff;stroke-linecap:round;\"/>\n     </g>\n     <g id=\"line2d_10\"/>\n     <g id=\"text_5\">\n      <!-- 80 -->\n      <defs>\n       <path d=\"M 51.265625 19.1875 \nQ 51.265625 14.796875 49.875 11.109375 \nQ 48.484375 7.421875 45.625 4.734375 \nQ 42.78125 2.046875 38.328125 0.53125 \nQ 33.890625 -0.984375 27.828125 -0.984375 \nQ 21.78125 -0.984375 17.359375 0.53125 \nQ 12.9375 2.046875 10.03125 4.703125 \nQ 7.125 7.375 5.734375 11.0625 \nQ 4.34375 14.75 4.34375 19.09375 \nQ 4.34375 22.859375 5.484375 25.78125 \nQ 6.640625 28.71875 8.5625 30.828125 \nQ 10.5 32.953125 12.96875 34.25 \nQ 15.4375 35.546875 18.0625 35.984375 \nL 18.0625 36.1875 \nQ 15.1875 36.859375 12.90625 38.375 \nQ 10.640625 39.890625 9.09375 42.015625 \nQ 7.5625 44.140625 6.75 46.71875 \nQ 5.953125 49.3125 5.953125 52.203125 \nQ 5.953125 55.8125 7.34375 59 \nQ 8.734375 62.203125 11.46875 64.625 \nQ 14.203125 67.046875 18.25 68.4375 \nQ 22.3125 69.828125 27.640625 69.828125 \nQ 33.25 69.828125 37.375 68.40625 \nQ 41.5 67 44.203125 64.578125 \nQ 46.921875 62.15625 48.234375 58.9375 \nQ 49.5625 55.71875 49.5625 52.09375 \nQ 49.5625 49.265625 48.75 46.671875 \nQ 47.953125 44.09375 46.40625 41.96875 \nQ 44.875 39.84375 42.59375 38.34375 \nQ 40.328125 36.859375 37.359375 36.28125 \nL 37.359375 36.078125 \nQ 40.328125 35.59375 42.859375 34.296875 \nQ 45.40625 33.015625 47.265625 30.890625 \nQ 49.125 28.765625 50.1875 25.828125 \nQ 51.265625 22.90625 51.265625 19.1875 \nz\nM 40.4375 51.609375 \nQ 40.4375 54.203125 39.765625 56.34375 \nQ 39.109375 58.5 37.59375 60.03125 \nQ 36.078125 61.578125 33.640625 62.421875 \nQ 31.203125 63.28125 27.640625 63.28125 \nQ 24.171875 63.28125 21.78125 62.421875 \nQ 19.390625 61.578125 17.84375 60.03125 \nQ 16.3125 58.5 15.625 56.34375 \nQ 14.9375 54.203125 14.9375 51.609375 \nQ 14.9375 49.5625 15.46875 47.40625 \nQ 16.015625 45.265625 17.421875 43.5 \nQ 18.84375 41.75 21.328125 40.625 \nQ 23.828125 39.5 27.734375 39.5 \nQ 31.890625 39.5 34.40625 40.625 \nQ 36.921875 41.75 38.25 43.5 \nQ 39.59375 45.265625 40.015625 47.40625 \nQ 40.4375 49.5625 40.4375 51.609375 \nz\nM 42.140625 20.015625 \nQ 42.140625 22.515625 41.453125 24.828125 \nQ 40.765625 27.15625 39.109375 28.9375 \nQ 37.453125 30.71875 34.640625 31.8125 \nQ 31.84375 32.90625 27.640625 32.90625 \nQ 23.78125 32.90625 21.0625 31.8125 \nQ 18.359375 30.71875 16.671875 28.90625 \nQ 14.984375 27.09375 14.203125 24.71875 \nQ 13.421875 22.359375 13.421875 19.828125 \nQ 13.421875 16.65625 14.203125 14.03125 \nQ 14.984375 11.421875 16.6875 9.546875 \nQ 18.40625 7.671875 21.1875 6.640625 \nQ 23.96875 5.609375 27.9375 5.609375 \nQ 31.9375 5.609375 34.671875 6.640625 \nQ 37.40625 7.671875 39.0625 9.546875 \nQ 40.71875 11.421875 41.421875 14.078125 \nQ 42.140625 16.75 42.140625 20.015625 \nz\n\" id=\"LiberationSans-56\"/>\n      </defs>\n      <g style=\"fill:#262626;\" transform=\"translate(261.895429 238.886875)scale(0.1 -0.1)\">\n       <use xlink:href=\"#LiberationSans-56\"/>\n       <use x=\"55.615234\" xlink:href=\"#LiberationSans-48\"/>\n      </g>\n     </g>\n    </g>\n    <g id=\"xtick_6\">\n     <g id=\"line2d_11\">\n      <path clip-path=\"url(#pb3693c285d)\" d=\"M 322.795209 224.64 \nL 322.795209 7.2 \n\" style=\"fill:none;stroke:#ffffff;stroke-linecap:round;\"/>\n     </g>\n     <g id=\"line2d_12\"/>\n     <g id=\"text_6\">\n      <!-- 100 -->\n      <defs>\n       <path d=\"M 7.625 0 \nL 7.625 7.46875 \nL 25.140625 7.46875 \nL 25.140625 60.40625 \nL 9.625 49.3125 \nL 9.625 57.625 \nL 25.875 68.796875 \nL 33.984375 68.796875 \nL 33.984375 7.46875 \nL 50.734375 7.46875 \nL 50.734375 0 \nz\n\" id=\"LiberationSans-49\"/>\n      </defs>\n      <g style=\"fill:#262626;\" transform=\"translate(314.453803 238.886875)scale(0.1 -0.1)\">\n       <use xlink:href=\"#LiberationSans-49\"/>\n       <use x=\"55.615234\" xlink:href=\"#LiberationSans-48\"/>\n       <use x=\"111.230469\" xlink:href=\"#LiberationSans-48\"/>\n      </g>\n     </g>\n    </g>\n   </g>\n   <g id=\"matplotlib.axis_2\">\n    <g id=\"ytick_1\">\n     <g id=\"line2d_13\">\n      <path clip-path=\"url(#pb3693c285d)\" d=\"M 30.882813 214.756364 \nL 365.682813 214.756364 \n\" style=\"fill:none;stroke:#ffffff;stroke-linecap:round;\"/>\n     </g>\n     <g id=\"line2d_14\"/>\n     <g id=\"text_7\">\n      <!-- 0 -->\n      <g style=\"fill:#262626;\" transform=\"translate(18.321875 218.379801)scale(0.1 -0.1)\">\n       <use xlink:href=\"#LiberationSans-48\"/>\n      </g>\n     </g>\n    </g>\n    <g id=\"ytick_2\">\n     <g id=\"line2d_15\">\n      <path clip-path=\"url(#pb3693c285d)\" d=\"M 30.882813 178.815868 \nL 365.682813 178.815868 \n\" style=\"fill:none;stroke:#ffffff;stroke-linecap:round;\"/>\n     </g>\n     <g id=\"line2d_16\"/>\n     <g id=\"text_8\">\n      <!-- 20 -->\n      <g style=\"fill:#262626;\" transform=\"translate(12.760938 182.439305)scale(0.1 -0.1)\">\n       <use xlink:href=\"#LiberationSans-50\"/>\n       <use x=\"55.615234\" xlink:href=\"#LiberationSans-48\"/>\n      </g>\n     </g>\n    </g>\n    <g id=\"ytick_3\">\n     <g id=\"line2d_17\">\n      <path clip-path=\"url(#pb3693c285d)\" d=\"M 30.882813 142.875372 \nL 365.682813 142.875372 \n\" style=\"fill:none;stroke:#ffffff;stroke-linecap:round;\"/>\n     </g>\n     <g id=\"line2d_18\"/>\n     <g id=\"text_9\">\n      <!-- 40 -->\n      <g style=\"fill:#262626;\" transform=\"translate(12.760938 146.498809)scale(0.1 -0.1)\">\n       <use xlink:href=\"#LiberationSans-52\"/>\n       <use x=\"55.615234\" xlink:href=\"#LiberationSans-48\"/>\n      </g>\n     </g>\n    </g>\n    <g id=\"ytick_4\">\n     <g id=\"line2d_19\">\n      <path clip-path=\"url(#pb3693c285d)\" d=\"M 30.882813 106.934876 \nL 365.682813 106.934876 \n\" style=\"fill:none;stroke:#ffffff;stroke-linecap:round;\"/>\n     </g>\n     <g id=\"line2d_20\"/>\n     <g id=\"text_10\">\n      <!-- 60 -->\n      <g style=\"fill:#262626;\" transform=\"translate(12.760938 110.558314)scale(0.1 -0.1)\">\n       <use xlink:href=\"#LiberationSans-54\"/>\n       <use x=\"55.615234\" xlink:href=\"#LiberationSans-48\"/>\n      </g>\n     </g>\n    </g>\n    <g id=\"ytick_5\">\n     <g id=\"line2d_21\">\n      <path clip-path=\"url(#pb3693c285d)\" d=\"M 30.882813 70.99438 \nL 365.682813 70.99438 \n\" style=\"fill:none;stroke:#ffffff;stroke-linecap:round;\"/>\n     </g>\n     <g id=\"line2d_22\"/>\n     <g id=\"text_11\">\n      <!-- 80 -->\n      <g style=\"fill:#262626;\" transform=\"translate(12.760938 74.617818)scale(0.1 -0.1)\">\n       <use xlink:href=\"#LiberationSans-56\"/>\n       <use x=\"55.615234\" xlink:href=\"#LiberationSans-48\"/>\n      </g>\n     </g>\n    </g>\n    <g id=\"ytick_6\">\n     <g id=\"line2d_23\">\n      <path clip-path=\"url(#pb3693c285d)\" d=\"M 30.882813 35.053884 \nL 365.682813 35.053884 \n\" style=\"fill:none;stroke:#ffffff;stroke-linecap:round;\"/>\n     </g>\n     <g id=\"line2d_24\"/>\n     <g id=\"text_12\">\n      <!-- 100 -->\n      <g style=\"fill:#262626;\" transform=\"translate(7.2 38.677322)scale(0.1 -0.1)\">\n       <use xlink:href=\"#LiberationSans-49\"/>\n       <use x=\"55.615234\" xlink:href=\"#LiberationSans-48\"/>\n       <use x=\"111.230469\" xlink:href=\"#LiberationSans-48\"/>\n      </g>\n     </g>\n    </g>\n   </g>\n   <g id=\"line2d_25\">\n    <path clip-path=\"url(#pb3693c285d)\" d=\"M 104.206779 62.009256 \nL 115.274548 17.083636 \nL 170.613391 35.053884 \nL 214.884465 17.083636 \nL 253.621655 40.444959 \nL 350.464631 17.083636 \nL 322.795209 35.053884 \nL 256.388598 85.370579 \nL 292.358846 97.949752 \nL 350.464631 133.890248 \nL 336.62992 187.800992 \nL 267.456366 178.815868 \nL 231.486118 153.657521 \nL 170.613391 178.815868 \nL 101.439837 196.786116 \nL 46.100994 214.756364 \nL 87.605127 169.830744 \nL 73.770416 124.905124 \nL 140.177027 97.949752 \nL 203.816697 90.761653 \nL 104.206779 62.009256 \n\" style=\"fill:none;stroke:#87ceeb;stroke-linecap:round;stroke-width:1.75;\"/>\n    <defs>\n     <path d=\"M 0 3.5 \nC 0.928211 3.5 1.81853 3.131218 2.474874 2.474874 \nC 3.131218 1.81853 3.5 0.928211 3.5 0 \nC 3.5 -0.928211 3.131218 -1.81853 2.474874 -2.474874 \nC 1.81853 -3.131218 0.928211 -3.5 0 -3.5 \nC -0.928211 -3.5 -1.81853 -3.131218 -2.474874 -2.474874 \nC -3.131218 -1.81853 -3.5 -0.928211 -3.5 0 \nC -3.5 0.928211 -3.131218 1.81853 -2.474874 2.474874 \nC -1.81853 3.131218 -0.928211 3.5 0 3.5 \nz\n\" id=\"m06d5bca04f\"/>\n    </defs>\n    <g clip-path=\"url(#pb3693c285d)\">\n     <use style=\"fill:#87ceeb;\" x=\"104.206779\" xlink:href=\"#m06d5bca04f\" y=\"62.009256\"/>\n     <use style=\"fill:#87ceeb;\" x=\"115.274548\" xlink:href=\"#m06d5bca04f\" y=\"17.083636\"/>\n     <use style=\"fill:#87ceeb;\" x=\"170.613391\" xlink:href=\"#m06d5bca04f\" y=\"35.053884\"/>\n     <use style=\"fill:#87ceeb;\" x=\"214.884465\" xlink:href=\"#m06d5bca04f\" y=\"17.083636\"/>\n     <use style=\"fill:#87ceeb;\" x=\"253.621655\" xlink:href=\"#m06d5bca04f\" y=\"40.444959\"/>\n     <use style=\"fill:#87ceeb;\" x=\"350.464631\" xlink:href=\"#m06d5bca04f\" y=\"17.083636\"/>\n     <use style=\"fill:#87ceeb;\" x=\"322.795209\" xlink:href=\"#m06d5bca04f\" y=\"35.053884\"/>\n     <use style=\"fill:#87ceeb;\" x=\"256.388598\" xlink:href=\"#m06d5bca04f\" y=\"85.370579\"/>\n     <use style=\"fill:#87ceeb;\" x=\"292.358846\" xlink:href=\"#m06d5bca04f\" y=\"97.949752\"/>\n     <use style=\"fill:#87ceeb;\" x=\"350.464631\" xlink:href=\"#m06d5bca04f\" y=\"133.890248\"/>\n     <use style=\"fill:#87ceeb;\" x=\"336.62992\" xlink:href=\"#m06d5bca04f\" y=\"187.800992\"/>\n     <use style=\"fill:#87ceeb;\" x=\"267.456366\" xlink:href=\"#m06d5bca04f\" y=\"178.815868\"/>\n     <use style=\"fill:#87ceeb;\" x=\"231.486118\" xlink:href=\"#m06d5bca04f\" y=\"153.657521\"/>\n     <use style=\"fill:#87ceeb;\" x=\"170.613391\" xlink:href=\"#m06d5bca04f\" y=\"178.815868\"/>\n     <use style=\"fill:#87ceeb;\" x=\"101.439837\" xlink:href=\"#m06d5bca04f\" y=\"196.786116\"/>\n     <use style=\"fill:#87ceeb;\" x=\"46.100994\" xlink:href=\"#m06d5bca04f\" y=\"214.756364\"/>\n     <use style=\"fill:#87ceeb;\" x=\"87.605127\" xlink:href=\"#m06d5bca04f\" y=\"169.830744\"/>\n     <use style=\"fill:#87ceeb;\" x=\"73.770416\" xlink:href=\"#m06d5bca04f\" y=\"124.905124\"/>\n     <use style=\"fill:#87ceeb;\" x=\"140.177027\" xlink:href=\"#m06d5bca04f\" y=\"97.949752\"/>\n     <use style=\"fill:#87ceeb;\" x=\"203.816697\" xlink:href=\"#m06d5bca04f\" y=\"90.761653\"/>\n     <use style=\"fill:#87ceeb;\" x=\"104.206779\" xlink:href=\"#m06d5bca04f\" y=\"62.009256\"/>\n    </g>\n   </g>\n   <g id=\"patch_3\">\n    <path d=\"M 30.882813 224.64 \nL 30.882813 7.2 \n\" style=\"fill:none;\"/>\n   </g>\n   <g id=\"patch_4\">\n    <path d=\"M 365.682813 224.64 \nL 365.682813 7.2 \n\" style=\"fill:none;\"/>\n   </g>\n   <g id=\"patch_5\">\n    <path d=\"M 30.882812 224.64 \nL 365.682813 224.64 \n\" style=\"fill:none;\"/>\n   </g>\n   <g id=\"patch_6\">\n    <path d=\"M 30.882812 7.2 \nL 365.682813 7.2 \n\" style=\"fill:none;\"/>\n   </g>\n  </g>\n </g>\n <defs>\n  <clipPath id=\"pb3693c285d\">\n   <rect height=\"217.44\" width=\"334.8\" x=\"30.882813\" y=\"7.2\"/>\n  </clipPath>\n </defs>\n</svg>\n"
          },
          "metadata": {
            "needs_background": "light"
          }
        }
      ]
    },
    {
      "cell_type": "markdown",
      "source": [
        ""
      ],
      "metadata": {
        "id": "xNmtNO8U8hzB"
      }
    },
    {
      "cell_type": "code",
      "source": [
        ""
      ],
      "metadata": {
        "id": "WwBWGv0yAmBc"
      },
      "execution_count": null,
      "outputs": []
    }
  ]
}